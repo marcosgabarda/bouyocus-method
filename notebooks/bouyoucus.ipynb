{
 "cells": [
  {
   "cell_type": "markdown",
   "metadata": {},
   "source": [
    "# Aplicación del método Bouyoucus"
   ]
  },
  {
   "cell_type": "markdown",
   "metadata": {},
   "source": [
    "Primero, ejecutamos las siguientes celdas, que contienen las funciones para ajustar a la función logaritmica de diámetro sobre el porcentaje de peso."
   ]
  },
  {
   "cell_type": "code",
   "execution_count": 2,
   "metadata": {},
   "outputs": [],
   "source": [
    "import numpy as np\n",
    "import pandas as pd\n",
    "\n",
    "\n",
    "def texture(clay, silt, sand):\n",
    "    \"\"\"Gets the type of texture from the givin percentage of clay, silt and sand.\"\"\"\n",
    "    thresholds = [\n",
    "        (\"arcillosa\", [40.0, 100.0], [0.0, 60.0], [0.0, 65.0]),\n",
    "        (\"franca\", [7.0, 27.0], [28.0, 50.0], [23.0, 52.0]), \n",
    "        (\"arcillo arenosa\", [35.0, 55.0], [0.0, 20.0], [45.0, 65.0]), \n",
    "        (\"franco arcillosa\", [27.0, 40.0], [15.0, 53.0], [20.0, 45.0]), \n",
    "        (\"franco arcillo limosa\", [27.0, 40.0], [40.0, 73.0], [0.0, 20.0]), \n",
    "        (\"arcillo limosa\", [40.0, 60.0], [40.0, 60.0], [0.0, 20.0]), \n",
    "        (\"franco arcillo arenosa\", [20.0, 35.0], [0.0, 28.0], [45.0, 80.0]), \n",
    "        (\"franco limosa\", [0.0, 27.0], [50.0, 80.0], [0.0, 50.0]), \n",
    "        (\"limosa\", [0.0, 12.0], [80.0, 100.0], [0.0, 20.0]), \n",
    "        (\"franco arenosa\", [0.0, 20.0], [0.0, 50.0], [50.0, 70.0]), \n",
    "        (\"arena franca\", [0.0, 15.0], [0.0, 30.0], [70.0, 86.0]), \n",
    "        (\"arenosa\", [0.0, 10.0], [0.0, 14.0], [86.0, 100.0])\n",
    "    ]\n",
    "    for threshold in thresholds:\n",
    "        if clay > threshold[1][0] and clay < threshold[1][1] and silt > threshold[2][0] and silt < threshold[2][1] and sand > threshold[3][0] and sand < threshold[3][1]:\n",
    "            return threshold[0]\n",
    "    return \"unknown\"\n",
    "\n",
    "\n",
    "def fit_by_sample(data):\n",
    "    \"\"\"Gets the terrain type percentage.\"\"\"\n",
    "    x = data[\"Diámetro corregido (µm)\"].to_numpy()\n",
    "    y = data[\"% Peso\"].to_numpy()\n",
    "    try:\n",
    "        coeficients = np.polyfit(np.log(x), y, 1)\n",
    "        clay = coeficients[0] * np.log(2.0) + coeficients[1]\n",
    "        silt = coeficients[0] * np.log(50.0) + coeficients[1] - clay\n",
    "        sand = 100.0 - sum([clay, silt])\n",
    "    except np.linalg.LinAlgError:\n",
    "        clay = silt = sand = np.nan\n",
    "    return pd.Series({\"clay\": clay, \"silt\": silt, \"sand\": sand})\n"
   ]
  },
  {
   "cell_type": "markdown",
   "metadata": {},
   "source": [
    "Leemos los datos desde el Excel, y aplicamos las transformaciones necesarias."
   ]
  },
  {
   "cell_type": "code",
   "execution_count": 22,
   "metadata": {},
   "outputs": [
    {
     "name": "stderr",
     "output_type": "stream",
     "text": [
      "/Users/marcos/.local/share/virtualenvs/bouyocus-method-6Ts6NAIv/lib/python3.7/site-packages/pandas/core/ops.py:1649: FutureWarning: elementwise comparison failed; returning scalar instead, but in the future will perform elementwise comparison\n",
      "  result = method(y)\n"
     ]
    }
   ],
   "source": [
    "# Read data from Excel\n",
    "df = pd.read_excel(\"./DATOS TFG.xlsx\", sheet_name=\"Python\")\n",
    "\n",
    "# Calcultes derivative data\n",
    "df.loc[df[\"Tiempo\"] == \">8h\", \"Tiempo\"] = 480\n",
    "df[\"Tiempo\"] = df[\"Tiempo\"].astype('float32')\n",
    "df[\"Lc\"] = df[\"Lecturas\"] - df[\"Lo\"]\n",
    "df[\"θ\"] = -0.2761 * df[\"Lecturas\"] + 50.957\n",
    "df[\"Diámetro (µm)\"] = df[\"θ\"] / np.sqrt(df[\"Tiempo\"])\n",
    "df[\"Diámetro corregido (µm)\"] = df[\"Diámetro (µm)\"] * df[\"factor T\"]\n",
    "df[\"% Peso\"] = ((df[\"Lecturas\"] - df[\"Lo\"]) / df[\"Peso\"]) * 100.0\n",
    "kinds = df.groupby(\"Muestra\").apply(fit_by_sample)\n",
    "kinds[\"texture\"] = kinds.apply(lambda data: texture(data[\"clay\"], data[\"silt\"], data[\"sand\"]), axis=1)"
   ]
  },
  {
   "cell_type": "code",
   "execution_count": 23,
   "metadata": {},
   "outputs": [],
   "source": [
    "df.to_excel(\"datos.xlsx\")\n",
    "kinds.to_excel(\"texturas.xlsx\")"
   ]
  }
 ],
 "metadata": {
  "kernelspec": {
   "display_name": "Django Shell-Plus",
   "language": "python",
   "name": "django_extensions"
  },
  "language_info": {
   "codemirror_mode": {
    "name": "ipython",
    "version": 3
   },
   "file_extension": ".py",
   "mimetype": "text/x-python",
   "name": "python",
   "nbconvert_exporter": "python",
   "pygments_lexer": "ipython3",
   "version": "3.7.3"
  }
 },
 "nbformat": 4,
 "nbformat_minor": 2
}
