{
 "cells": [
  {
   "cell_type": "markdown",
   "metadata": {},
   "source": [
    "# Aplicación del método Bouyoucus"
   ]
  },
  {
   "cell_type": "markdown",
   "metadata": {},
   "source": [
    "## Librerías de terceros\n",
    "\n",
    "Este _Jupyter Notebook_ utiliza las librerías **pandas** y **NumPy** para ejecutar las operaciones y transformaciones que el método Bouyoucus necesita.\n",
    "\n",
    "Por lo tanto, primero hemos de importar las librerías:"
   ]
  },
  {
   "cell_type": "code",
   "execution_count": 2,
   "metadata": {},
   "outputs": [],
   "source": [
    "import numpy as np\n",
    "import pandas as pd"
   ]
  },
  {
   "cell_type": "markdown",
   "metadata": {},
   "source": [
    "## Constantes\n",
    "\n",
    "Las siguientes contantes se definen para poder acceder los ficheros de entrada, sus columnas y definir los ficheros de salida:"
   ]
  },
  {
   "cell_type": "code",
   "execution_count": 3,
   "metadata": {},
   "outputs": [],
   "source": [
    "# Input file\n",
    "INPUT_FILE_NAME = \"DATOS TFG.xlsx\"\n",
    "INPUT_SHEET = \"Python\"\n",
    "\n",
    "# Input data columns\n",
    "SAMPLE_COLUMN = \"Muestra\"\n",
    "TIME_COLUMN = \"Tiempo\"\n",
    "READINGS_COLUMN = \"Lecturas\"\n",
    "CALIBRATION_READING_COLUMN = \"Lo\"\n",
    "WEIGHT_COLUMN = \"Peso\"\n",
    "TEMPERATURE_COLUMN = \"T\"\n",
    "T_FACTOR_COLUMN = \"factor T\"\n",
    "SUSPENSION_CONCENTRATION_COLUMN = \"Lc\"\n",
    "THETA_COLUMN =  \"θ\"\n",
    "DIAMETER_COLUMN = \"Diámetro (µm)\"\n",
    "FIXED_DIAMETER_COLUMN = \"Diámetro corregido (µm)\"\n",
    "WEIGHT_PERCENTAGE_COLUMN = \"% Peso\"\n",
    "\n",
    "# Output\n",
    "OUTPUT_FILE_NAME = \"DATOS TEXTURA.xlsx\"\n",
    "DATA_SHEET = \"Parámetros Textura\"\n",
    "TEXTURE_SHEET = \"Clasificación Textural\""
   ]
  },
  {
   "cell_type": "markdown",
   "metadata": {},
   "source": [
    "## Diagrama semilogarítmico\n",
    "\n",
    "La funcíon `fit_by_sample` ejecuta el ajuste de los datos de una muestra al diagrama semilogaritmico. Se ejecutará sobre una serie de datos extratidos de una agrupación de `pandas`:"
   ]
  },
  {
   "cell_type": "code",
   "execution_count": 4,
   "metadata": {},
   "outputs": [],
   "source": [
    "def fit_log_by_sample(data):\n",
    "    \"\"\"Gets the terrain type percentage.\"\"\"\n",
    "    x = data[FIXED_DIAMETER_COLUMN].to_numpy()\n",
    "    y = data[WEIGHT_PERCENTAGE_COLUMN].to_numpy()\n",
    "    try:\n",
    "        coeficients = np.polyfit(np.log(x), y, 1)\n",
    "        clay = coeficients[0] * np.log(2.0) + coeficients[1]\n",
    "        silt = coeficients[0] * np.log(50.0) + coeficients[1] - clay\n",
    "        sand = 100.0 - sum([clay, silt])\n",
    "    except np.linalg.LinAlgError:\n",
    "        clay = silt = sand = np.nan\n",
    "    return pd.Series({\"clay\": clay, \"silt\": silt, \"sand\": sand})\n"
   ]
  },
  {
   "cell_type": "markdown",
   "metadata": {},
   "source": [
    "## Triángulo textural USDA\n",
    "\n",
    "La siguiente función implementa los discriminantes del **tríangulo textural USDA**, para obtener la textura del suelo en función del porcentaje de arcilla, limo y arena:"
   ]
  },
  {
   "cell_type": "code",
   "execution_count": 5,
   "metadata": {},
   "outputs": [],
   "source": [
    "\n",
    "def texture_triangle(clay, silt, sand):\n",
    "    \"\"\"Gets the type of texture from the givin percentage of clay, silt and sand.\"\"\"\n",
    "    thresholds = [\n",
    "        (\"arcillosa\", [40.0, 100.0], [0.0, 60.0], [0.0, 65.0]),\n",
    "        (\"franca\", [7.0, 27.0], [28.0, 50.0], [23.0, 52.0]), \n",
    "        (\"arcillo arenosa\", [35.0, 55.0], [0.0, 20.0], [45.0, 65.0]), \n",
    "        (\"franco arcillosa\", [27.0, 40.0], [15.0, 53.0], [20.0, 45.0]), \n",
    "        (\"franco arcillo limosa\", [27.0, 40.0], [40.0, 73.0], [0.0, 20.0]), \n",
    "        (\"arcillo limosa\", [40.0, 60.0], [40.0, 60.0], [0.0, 20.0]), \n",
    "        (\"franco arcillo arenosa\", [20.0, 35.0], [0.0, 28.0], [45.0, 80.0]), \n",
    "        (\"franco limosa\", [0.0, 27.0], [50.0, 80.0], [0.0, 50.0]), \n",
    "        (\"limosa\", [0.0, 12.0], [80.0, 100.0], [0.0, 20.0]), \n",
    "        (\"franco arenosa\", [0.0, 20.0], [0.0, 50.0], [50.0, 70.0]), \n",
    "        (\"arena franca\", [0.0, 15.0], [0.0, 30.0], [70.0, 86.0]), \n",
    "        (\"arenosa\", [0.0, 10.0], [0.0, 14.0], [86.0, 100.0])\n",
    "    ]\n",
    "    for threshold in thresholds:\n",
    "        if clay > threshold[1][0] and clay < threshold[1][1] and silt > threshold[2][0] and silt < threshold[2][1] and sand > threshold[3][0] and sand < threshold[3][1]:\n",
    "            return threshold[0]\n",
    "    return \"unknown\"\n"
   ]
  },
  {
   "cell_type": "markdown",
   "metadata": {},
   "source": [
    "## Lectura de datos de entrada\n",
    "\n",
    "Leemos los datos desde el Excel y los almacenamos en un `DataFrame` de `padas`:"
   ]
  },
  {
   "cell_type": "code",
   "execution_count": 6,
   "metadata": {},
   "outputs": [],
   "source": [
    "# Read data from Excel\n",
    "df = pd.read_excel(f\"./input/{INPUT_FILE_NAME}\", sheet_name=INPUT_SHEET)"
   ]
  },
  {
   "cell_type": "markdown",
   "metadata": {},
   "source": [
    "## Datos calculados\n",
    "\n",
    "Operamos sobre el `DataFrame` para obtener las columnas y datos derivados:"
   ]
  },
  {
   "cell_type": "code",
   "execution_count": 7,
   "metadata": {},
   "outputs": [],
   "source": [
    "# Calcultes derivative data\n",
    "df[TIME_COLUMN] = df[TIME_COLUMN].astype('float32')\n",
    "df[SUSPENSION_CONCENTRATION_COLUMN] = df[READINGS_COLUMN] - df[CALIBRATION_READING_COLUMN]\n",
    "df[THETA_COLUMN] = -0.2761 * df[READINGS_COLUMN] + 50.957\n",
    "df[DIAMETER_COLUMN] = df[THETA_COLUMN] / np.sqrt(df[TIME_COLUMN])\n",
    "df[FIXED_DIAMETER_COLUMN] = df[DIAMETER_COLUMN] * df[T_FACTOR_COLUMN]\n",
    "df[WEIGHT_PERCENTAGE_COLUMN] = ((df[READINGS_COLUMN] - df[CALIBRATION_READING_COLUMN]) / df[WEIGHT_COLUMN]) * 100.0"
   ]
  },
  {
   "cell_type": "markdown",
   "metadata": {},
   "source": [
    "## Porcentajes de arcilla, limo y arena\n",
    "\n",
    "Agrupamos por muestra y aplicamos el ajuste del diagrama semilogarítmio para obteners los porcentajes de arcilla, limo y arena:"
   ]
  },
  {
   "cell_type": "code",
   "execution_count": null,
   "metadata": {},
   "outputs": [],
   "source": [
    "kinds = df.groupby(SAMPLE_COLUMN).apply(fit_log_by_sample)"
   ]
  },
  {
   "cell_type": "markdown",
   "metadata": {},
   "source": [
    "Una vez obtenidos los porcentajes, aplicamos el triángulo textural USDA:"
   ]
  },
  {
   "cell_type": "code",
   "execution_count": null,
   "metadata": {},
   "outputs": [],
   "source": [
    "kinds[\"texture\"] = kinds.apply(lambda data: texture_triangle(data[\"clay\"], data[\"silt\"], data[\"sand\"]), axis=1)"
   ]
  },
  {
   "cell_type": "markdown",
   "metadata": {},
   "source": [
    "## Guardar resultados\n",
    "\n",
    "Una vez hechos los cálculos, guardamos los resultados en un fichero de Excel:"
   ]
  },
  {
   "cell_type": "code",
   "execution_count": null,
   "metadata": {},
   "outputs": [],
   "source": [
    "with pd.ExcelWriter(f\"./output/{OUTPUT_FILE_NAME}\") as writer:\n",
    "    df.to_excel(writer, sheet_name=DATA_SHEET)\n",
    "    kinds.to_excel(writer, sheet_name=TEXTURE_SHEET)"
   ]
  }
 ],
 "metadata": {
  "kernelspec": {
   "display_name": "Django Shell-Plus",
   "language": "python",
   "name": "django_extensions"
  },
  "language_info": {
   "codemirror_mode": {
    "name": "ipython",
    "version": 3
   },
   "file_extension": ".py",
   "mimetype": "text/x-python",
   "name": "python",
   "nbconvert_exporter": "python",
   "pygments_lexer": "ipython3",
   "version": "3.7.3"
  }
 },
 "nbformat": 4,
 "nbformat_minor": 2
}
